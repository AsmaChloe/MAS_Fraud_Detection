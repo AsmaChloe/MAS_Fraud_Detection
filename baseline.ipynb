{
 "cells": [
  {
   "cell_type": "code",
   "execution_count": 3,
   "metadata": {
    "collapsed": true
   },
   "outputs": [],
   "source": [
    "import pandas as pd\n",
    "import numpy as np\n",
    "from sklearn.preprocessing import StandardScaler\n",
    "from sklearn.model_selection import StratifiedKFold, cross_validate"
   ]
  },
  {
   "cell_type": "code",
   "execution_count": 4,
   "outputs": [],
   "source": [
    "#Chargement des données\n",
    "data = pd.read_csv(\"creditcard.csv\")\n",
    "\n",
    "#Normalisation des colonnes\n",
    "data[\"Amount\"] = StandardScaler().fit_transform(data[[\"Amount\"]])\n",
    "data[\"Time\"] = StandardScaler().fit_transform(data[[\"Time\"]])"
   ],
   "metadata": {
    "collapsed": false
   }
  },
  {
   "cell_type": "code",
   "execution_count": 11,
   "outputs": [
    {
     "data": {
      "text/plain": "          Time        V1        V2        V3        V4        V5        V6  \\\n541  -1.988034 -2.312227  1.951992 -1.609851  3.997906 -0.522188 -1.426545   \n623  -1.986644 -3.043541 -3.157307  1.088463  2.288644  1.359805 -1.064823   \n4920 -1.902623 -2.303350  1.759247 -0.359745  2.330243 -0.821628 -0.075788   \n6108 -1.849472 -4.397974  1.358367 -2.592844  2.679787 -1.128131 -1.706536   \n6329 -1.838248  1.234235  3.019740 -4.304597  4.732795  3.624201 -1.357746   \n\n            V7        V8        V9  ...       V21       V22       V23  \\\n541  -2.537387  1.391657 -2.770089  ...  0.517232 -0.035049 -0.465211   \n623   0.325574 -0.067794 -0.270953  ...  0.661696  0.435477  1.375966   \n4920  0.562320 -0.399147 -0.238253  ... -0.294166 -0.932391  0.172726   \n6108 -3.496197 -0.248778 -0.247768  ...  0.573574  0.176968 -0.436207   \n6329  1.713445 -0.496358 -1.282858  ... -0.379068 -0.704181 -0.656805   \n\n           V24       V25       V26       V27       V28    Amount  Class  \n541   0.320198  0.044519  0.177840  0.261145 -0.143276 -0.353229      1  \n623  -0.293803  0.279798 -0.145362 -0.252773  0.035764  1.761758      1  \n4920 -0.087330 -0.156114 -0.542628  0.039566 -0.153029  0.606031      1  \n6108 -0.053502  0.252405 -0.657488 -0.827136  0.849573 -0.117342      1  \n6329 -1.632653  1.488901  0.566797 -0.010016  0.146793 -0.349231      1  \n\n[5 rows x 31 columns]",
      "text/html": "<div>\n<style scoped>\n    .dataframe tbody tr th:only-of-type {\n        vertical-align: middle;\n    }\n\n    .dataframe tbody tr th {\n        vertical-align: top;\n    }\n\n    .dataframe thead th {\n        text-align: right;\n    }\n</style>\n<table border=\"1\" class=\"dataframe\">\n  <thead>\n    <tr style=\"text-align: right;\">\n      <th></th>\n      <th>Time</th>\n      <th>V1</th>\n      <th>V2</th>\n      <th>V3</th>\n      <th>V4</th>\n      <th>V5</th>\n      <th>V6</th>\n      <th>V7</th>\n      <th>V8</th>\n      <th>V9</th>\n      <th>...</th>\n      <th>V21</th>\n      <th>V22</th>\n      <th>V23</th>\n      <th>V24</th>\n      <th>V25</th>\n      <th>V26</th>\n      <th>V27</th>\n      <th>V28</th>\n      <th>Amount</th>\n      <th>Class</th>\n    </tr>\n  </thead>\n  <tbody>\n    <tr>\n      <th>541</th>\n      <td>-1.988034</td>\n      <td>-2.312227</td>\n      <td>1.951992</td>\n      <td>-1.609851</td>\n      <td>3.997906</td>\n      <td>-0.522188</td>\n      <td>-1.426545</td>\n      <td>-2.537387</td>\n      <td>1.391657</td>\n      <td>-2.770089</td>\n      <td>...</td>\n      <td>0.517232</td>\n      <td>-0.035049</td>\n      <td>-0.465211</td>\n      <td>0.320198</td>\n      <td>0.044519</td>\n      <td>0.177840</td>\n      <td>0.261145</td>\n      <td>-0.143276</td>\n      <td>-0.353229</td>\n      <td>1</td>\n    </tr>\n    <tr>\n      <th>623</th>\n      <td>-1.986644</td>\n      <td>-3.043541</td>\n      <td>-3.157307</td>\n      <td>1.088463</td>\n      <td>2.288644</td>\n      <td>1.359805</td>\n      <td>-1.064823</td>\n      <td>0.325574</td>\n      <td>-0.067794</td>\n      <td>-0.270953</td>\n      <td>...</td>\n      <td>0.661696</td>\n      <td>0.435477</td>\n      <td>1.375966</td>\n      <td>-0.293803</td>\n      <td>0.279798</td>\n      <td>-0.145362</td>\n      <td>-0.252773</td>\n      <td>0.035764</td>\n      <td>1.761758</td>\n      <td>1</td>\n    </tr>\n    <tr>\n      <th>4920</th>\n      <td>-1.902623</td>\n      <td>-2.303350</td>\n      <td>1.759247</td>\n      <td>-0.359745</td>\n      <td>2.330243</td>\n      <td>-0.821628</td>\n      <td>-0.075788</td>\n      <td>0.562320</td>\n      <td>-0.399147</td>\n      <td>-0.238253</td>\n      <td>...</td>\n      <td>-0.294166</td>\n      <td>-0.932391</td>\n      <td>0.172726</td>\n      <td>-0.087330</td>\n      <td>-0.156114</td>\n      <td>-0.542628</td>\n      <td>0.039566</td>\n      <td>-0.153029</td>\n      <td>0.606031</td>\n      <td>1</td>\n    </tr>\n    <tr>\n      <th>6108</th>\n      <td>-1.849472</td>\n      <td>-4.397974</td>\n      <td>1.358367</td>\n      <td>-2.592844</td>\n      <td>2.679787</td>\n      <td>-1.128131</td>\n      <td>-1.706536</td>\n      <td>-3.496197</td>\n      <td>-0.248778</td>\n      <td>-0.247768</td>\n      <td>...</td>\n      <td>0.573574</td>\n      <td>0.176968</td>\n      <td>-0.436207</td>\n      <td>-0.053502</td>\n      <td>0.252405</td>\n      <td>-0.657488</td>\n      <td>-0.827136</td>\n      <td>0.849573</td>\n      <td>-0.117342</td>\n      <td>1</td>\n    </tr>\n    <tr>\n      <th>6329</th>\n      <td>-1.838248</td>\n      <td>1.234235</td>\n      <td>3.019740</td>\n      <td>-4.304597</td>\n      <td>4.732795</td>\n      <td>3.624201</td>\n      <td>-1.357746</td>\n      <td>1.713445</td>\n      <td>-0.496358</td>\n      <td>-1.282858</td>\n      <td>...</td>\n      <td>-0.379068</td>\n      <td>-0.704181</td>\n      <td>-0.656805</td>\n      <td>-1.632653</td>\n      <td>1.488901</td>\n      <td>0.566797</td>\n      <td>-0.010016</td>\n      <td>0.146793</td>\n      <td>-0.349231</td>\n      <td>1</td>\n    </tr>\n  </tbody>\n</table>\n<p>5 rows × 31 columns</p>\n</div>"
     },
     "execution_count": 11,
     "metadata": {},
     "output_type": "execute_result"
    }
   ],
   "source": [
    "#View the data of class 1\n",
    "data[data[\"Class\"] == 1].head()"
   ],
   "metadata": {
    "collapsed": false
   }
  },
  {
   "cell_type": "code",
   "execution_count": 5,
   "outputs": [],
   "source": [
    "X = data.iloc[:,:-1]\n",
    "y = data.iloc[:,-1]"
   ],
   "metadata": {
    "collapsed": false
   }
  },
  {
   "cell_type": "code",
   "execution_count": 6,
   "outputs": [],
   "source": [
    "cv = StratifiedKFold(n_splits=10)"
   ],
   "metadata": {
    "collapsed": false
   }
  },
  {
   "cell_type": "markdown",
   "source": [
    "## Algorithme Naïf"
   ],
   "metadata": {
    "collapsed": false
   }
  },
  {
   "cell_type": "code",
   "execution_count": 8,
   "outputs": [],
   "source": [
    "from sklearn.dummy import DummyClassifier\n",
    "\n",
    "dummy_clf = DummyClassifier(strategy=\"constant\", constant=1, random_state = 0)\n",
    "dummy_clf_results = cross_validate(dummy_clf, X, y, cv=cv, n_jobs = -1, scoring = \"f1\", return_train_score=True, return_estimator=True)"
   ],
   "metadata": {
    "collapsed": false
   }
  },
  {
   "cell_type": "code",
   "execution_count": 9,
   "outputs": [
    {
     "name": "stdout",
     "output_type": "stream",
     "text": [
      "Mean F1-score : 0.00\n"
     ]
    }
   ],
   "source": [
    "print(\"Mean F1-score : {:.2f}\".format(np.mean(dummy_clf_results['test_score'])))"
   ],
   "metadata": {
    "collapsed": false
   }
  },
  {
   "cell_type": "code",
   "execution_count": 10,
   "outputs": [],
   "source": [
    "#save the model in file\n",
    "import pickle\n",
    "dummy_clf_best = dummy_clf_results['estimator'][np.argmax(dummy_clf_results['test_score'])]\n",
    "filename = './modeles/dummy_clf_best.sav'\n",
    "pickle.dump(dummy_clf_best, open(filename, 'wb'))"
   ],
   "metadata": {
    "collapsed": false
   }
  },
  {
   "cell_type": "markdown",
   "source": [
    "## Algorithmes linéaires"
   ],
   "metadata": {
    "collapsed": false
   }
  },
  {
   "cell_type": "markdown",
   "source": [
    "### Logistic Regression"
   ],
   "metadata": {
    "collapsed": false
   }
  },
  {
   "cell_type": "code",
   "execution_count": 11,
   "outputs": [],
   "source": [
    "from sklearn.linear_model import LogisticRegression\n",
    "\n",
    "log_reg_clf = LogisticRegression(random_state=0)\n",
    "log_reg_clf_results = cross_validate(log_reg_clf, X, y, cv=cv, n_jobs = -1, scoring = \"f1\", return_train_score=True, return_estimator=True)"
   ],
   "metadata": {
    "collapsed": false
   }
  },
  {
   "cell_type": "code",
   "execution_count": 12,
   "outputs": [
    {
     "name": "stdout",
     "output_type": "stream",
     "text": [
      "Mean F1-score : 0.680\n"
     ]
    }
   ],
   "source": [
    "print(\"Mean F1-score : {:.3f}\".format(np.mean(log_reg_clf_results['test_score'])))"
   ],
   "metadata": {
    "collapsed": false
   }
  },
  {
   "cell_type": "code",
   "execution_count": 46,
   "outputs": [],
   "source": [
    "#save the model in file\n",
    "import pickle\n",
    "log_reg_clf_best = log_reg_clf_results['estimator'][np.argmax(log_reg_clf_results['test_score'])]\n",
    "filename = './modeles/log_reg_clf_best.sav'\n",
    "pickle.dump(log_reg_clf_best, open(filename, 'wb'))"
   ],
   "metadata": {
    "collapsed": false
   }
  },
  {
   "cell_type": "markdown",
   "source": [
    "### Naive Bayes"
   ],
   "metadata": {
    "collapsed": false
   }
  },
  {
   "cell_type": "code",
   "execution_count": 23,
   "outputs": [],
   "source": [
    "from sklearn.naive_bayes import GaussianNB\n",
    "\n",
    "nb_clf = GaussianNB()\n",
    "nb_clf_results = cross_validate(nb_clf, X, y, cv=cv, n_jobs = -1, scoring = \"f1\", return_train_score=True, return_estimator=True)"
   ],
   "metadata": {
    "collapsed": false
   }
  },
  {
   "cell_type": "code",
   "execution_count": 13,
   "outputs": [
    {
     "name": "stdout",
     "output_type": "stream",
     "text": [
      "Mean F1-score : 0.115\n"
     ]
    }
   ],
   "source": [
    "print(\"Mean F1-score : {:.3f}\".format(np.mean(nb_clf_results['test_score'])))"
   ],
   "metadata": {
    "collapsed": false
   }
  },
  {
   "cell_type": "code",
   "execution_count": 48,
   "outputs": [],
   "source": [
    "#best model\n",
    "nb_clf_best = nb_clf_results['estimator'][np.argmax(nb_clf_results['test_score'])]\n",
    "filename = './modeles/nb_clf_best.sav'\n",
    "pickle.dump(nb_clf_best, open(filename, 'wb'))"
   ],
   "metadata": {
    "collapsed": false
   }
  },
  {
   "cell_type": "markdown",
   "source": [
    "### Linear Discriminant Analysis"
   ],
   "metadata": {
    "collapsed": false
   }
  },
  {
   "cell_type": "code",
   "execution_count": 25,
   "outputs": [],
   "source": [
    "from sklearn.discriminant_analysis import LinearDiscriminantAnalysis\n",
    "\n",
    "lda_clf = LinearDiscriminantAnalysis()\n",
    "lda_clf_results = cross_validate(lda_clf, X, y, cv=cv, n_jobs = -1, scoring = \"f1\", return_train_score=True, return_estimator=True)"
   ],
   "metadata": {
    "collapsed": false
   }
  },
  {
   "cell_type": "code",
   "execution_count": 26,
   "outputs": [
    {
     "name": "stdout",
     "output_type": "stream",
     "text": [
      "Mean F1-score : 0.785\n"
     ]
    }
   ],
   "source": [
    "print(\"Mean F1-score : {:.3f}\".format(np.mean(lda_clf_results['test_score'])))"
   ],
   "metadata": {
    "collapsed": false
   }
  },
  {
   "cell_type": "code",
   "execution_count": 49,
   "outputs": [],
   "source": [
    "#best model\n",
    "lda_clf_best = lda_clf_results['estimator'][np.argmax(lda_clf_results['test_score'])]\n",
    "filename = './modeles/lda_clf_best.sav'\n",
    "pickle.dump(lda_clf_best, open(filename, 'wb'))"
   ],
   "metadata": {
    "collapsed": false
   }
  },
  {
   "cell_type": "markdown",
   "source": [
    "## Algorithmes Non-linéaires"
   ],
   "metadata": {
    "collapsed": false
   }
  },
  {
   "cell_type": "markdown",
   "source": [
    "### Decision Tree"
   ],
   "metadata": {
    "collapsed": false
   }
  },
  {
   "cell_type": "code",
   "execution_count": 28,
   "outputs": [],
   "source": [
    "from sklearn.tree import DecisionTreeClassifier\n",
    "\n",
    "decision_tree_clf = DecisionTreeClassifier(random_state = 0)\n",
    "decision_tree_clf_results = cross_validate(decision_tree_clf, X, y, cv=cv, n_jobs = -1, scoring = \"f1\", return_train_score=True, return_estimator=True)"
   ],
   "metadata": {
    "collapsed": false
   }
  },
  {
   "cell_type": "code",
   "execution_count": 29,
   "outputs": [
    {
     "name": "stdout",
     "output_type": "stream",
     "text": [
      "Mean F1-score : 0.590\n"
     ]
    }
   ],
   "source": [
    "print(\"Mean F1-score : {:.3f}\".format(np.mean(decision_tree_clf_results['test_score'])))"
   ],
   "metadata": {
    "collapsed": false
   }
  },
  {
   "cell_type": "code",
   "execution_count": 50,
   "outputs": [],
   "source": [
    "#best model\n",
    "decision_tree_clf_best = decision_tree_clf_results['estimator'][np.argmax(decision_tree_clf_results['test_score'])]\n",
    "filename = './modeles/decision_tree_clf_best.sav'\n",
    "pickle.dump(decision_tree_clf_best, open(filename, 'wb'))"
   ],
   "metadata": {
    "collapsed": false
   }
  },
  {
   "cell_type": "markdown",
   "source": [
    "### SVM"
   ],
   "metadata": {
    "collapsed": false
   },
   "execution_count": 23
  },
  {
   "cell_type": "code",
   "execution_count": 31,
   "outputs": [],
   "source": [
    "from sklearn.svm import SVC\n",
    "\n",
    "svc_clf = SVC(random_state = 0)\n",
    "svc_clf_results = cross_validate(svc_clf, X, y, cv=cv, n_jobs = -1, scoring = \"f1\", return_train_score=True, return_estimator=True)"
   ],
   "metadata": {
    "collapsed": false
   }
  },
  {
   "cell_type": "code",
   "execution_count": 32,
   "outputs": [
    {
     "name": "stdout",
     "output_type": "stream",
     "text": [
      "Mean F1-score : 0.634\n"
     ]
    }
   ],
   "source": [
    "print(\"Mean F1-score : {:.3f}\".format(np.mean(svc_clf_results['test_score'])))"
   ],
   "metadata": {
    "collapsed": false
   }
  },
  {
   "cell_type": "code",
   "execution_count": 51,
   "outputs": [],
   "source": [
    "#best model\n",
    "svc_clf_best = svc_clf_results['estimator'][np.argmax(svc_clf_results['test_score'])]\n",
    "filename = './modeles/svc_clf_best.sav'\n",
    "pickle.dump(svc_clf_best, open(filename, 'wb'))"
   ],
   "metadata": {
    "collapsed": false
   }
  },
  {
   "cell_type": "markdown",
   "source": [
    "### KNN"
   ],
   "metadata": {
    "collapsed": false
   }
  },
  {
   "cell_type": "code",
   "execution_count": 34,
   "outputs": [],
   "source": [
    "from sklearn.neighbors import KNeighborsClassifier\n",
    "\n",
    "knn_clf = KNeighborsClassifier()\n",
    "knn_clf_results = cross_validate(knn_clf, X, y, cv=cv, n_jobs = -1, scoring = \"f1\", return_train_score=True, return_estimator=True)"
   ],
   "metadata": {
    "collapsed": false
   }
  },
  {
   "cell_type": "code",
   "execution_count": 35,
   "outputs": [
    {
     "name": "stdout",
     "output_type": "stream",
     "text": [
      "Mean F1-score : 0.763\n"
     ]
    }
   ],
   "source": [
    "print(\"Mean F1-score : {:.3f}\".format(np.mean(knn_clf_results['test_score'])))"
   ],
   "metadata": {
    "collapsed": false
   }
  },
  {
   "cell_type": "code",
   "execution_count": 52,
   "outputs": [],
   "source": [
    "#best model\n",
    "knn_clf_best = knn_clf_results['estimator'][np.argmax(knn_clf_results['test_score'])]\n",
    "filename = './modeles/knn_clf_best.sav'\n",
    "pickle.dump(knn_clf_best, open(filename, 'wb'))"
   ],
   "metadata": {
    "collapsed": false
   }
  },
  {
   "cell_type": "markdown",
   "source": [
    "## Algorithmes Ensemblistes"
   ],
   "metadata": {
    "collapsed": false
   }
  },
  {
   "cell_type": "markdown",
   "source": [
    "### Bagged Trees"
   ],
   "metadata": {
    "collapsed": false
   }
  },
  {
   "cell_type": "code",
   "execution_count": 37,
   "outputs": [],
   "source": [
    "from sklearn.ensemble import BaggingClassifier\n",
    "from sklearn.tree import DecisionTreeClassifier\n",
    "tree_clf = DecisionTreeClassifier(random_state=0)\n",
    "bag_clf = BaggingClassifier(tree_clf, n_estimators=100, max_samples=0.8, max_features=1.0, bootstrap=True, random_state=0)\n",
    "bag_clf_results = cross_validate(bag_clf, X, y, cv=cv, n_jobs = -1, scoring = \"f1\", return_train_score=True, return_estimator=True)"
   ],
   "metadata": {
    "collapsed": false
   }
  },
  {
   "cell_type": "code",
   "execution_count": 38,
   "outputs": [
    {
     "name": "stdout",
     "output_type": "stream",
     "text": [
      "Mean F1-score : 0.725\n"
     ]
    }
   ],
   "source": [
    "print(\"Mean F1-score : {:.3f}\".format(np.mean(bag_clf_results['test_score'])))"
   ],
   "metadata": {
    "collapsed": false
   }
  },
  {
   "cell_type": "code",
   "execution_count": 53,
   "outputs": [],
   "source": [
    "#best model\n",
    "bag_clf_best = bag_clf_results['estimator'][np.argmax(bag_clf_results['test_score'])]\n",
    "filename = './modeles/bag_clf_best.sav'\n",
    "pickle.dump(bag_clf_best, open(filename, 'wb'))"
   ],
   "metadata": {
    "collapsed": false
   }
  },
  {
   "cell_type": "markdown",
   "source": [
    "### Random Forest"
   ],
   "metadata": {
    "collapsed": false
   }
  },
  {
   "cell_type": "code",
   "execution_count": 40,
   "outputs": [],
   "source": [
    "from sklearn.ensemble import RandomForestClassifier\n",
    "\n",
    "rf_clf = RandomForestClassifier(random_state = 0)\n",
    "rf_clf_results = cross_validate(rf_clf, X, y, cv=cv, n_jobs = -1, scoring = \"f1\", return_train_score=True, return_estimator=True)"
   ],
   "metadata": {
    "collapsed": false
   }
  },
  {
   "cell_type": "code",
   "execution_count": 41,
   "outputs": [
    {
     "name": "stdout",
     "output_type": "stream",
     "text": [
      "Mean F1-score : 0.731\n"
     ]
    }
   ],
   "source": [
    "print(\"Mean F1-score : {:.3f}\".format(np.mean(rf_clf_results['test_score'])))"
   ],
   "metadata": {
    "collapsed": false
   }
  },
  {
   "cell_type": "code",
   "execution_count": 54,
   "outputs": [],
   "source": [
    "#best model\n",
    "rf_clf_best = rf_clf_results['estimator'][np.argmax(rf_clf_results['test_score'])]\n",
    "filename = './modeles/rf_clf_best.sav'\n",
    "pickle.dump(rf_clf_best, open(filename, 'wb'))"
   ],
   "metadata": {
    "collapsed": false
   }
  },
  {
   "cell_type": "markdown",
   "source": [
    "### SGB"
   ],
   "metadata": {
    "collapsed": false
   }
  },
  {
   "cell_type": "code",
   "execution_count": 43,
   "outputs": [],
   "source": [
    "from sklearn.ensemble import GradientBoostingClassifier\n",
    "\n",
    "sgb_clf = GradientBoostingClassifier(random_state = 0)\n",
    "sgb_clf_results = cross_validate(sgb_clf, X, y, cv=cv, n_jobs = -1, scoring = \"f1\", return_train_score=True, return_estimator=True)"
   ],
   "metadata": {
    "collapsed": false
   }
  },
  {
   "cell_type": "code",
   "execution_count": 44,
   "outputs": [
    {
     "name": "stdout",
     "output_type": "stream",
     "text": [
      "Mean F1-score : 0.460\n"
     ]
    }
   ],
   "source": [
    "print(\"Mean F1-score : {:.3f}\".format(np.mean(sgb_clf_results['test_score'])))"
   ],
   "metadata": {
    "collapsed": false
   }
  },
  {
   "cell_type": "code",
   "execution_count": 55,
   "outputs": [],
   "source": [
    "#best model\n",
    "sgb_clf_best = sgb_clf_results['estimator'][np.argmax(sgb_clf_results['test_score'])]\n",
    "filename = './modeles/sgb_clf_best.sav'\n",
    "pickle.dump(sgb_clf_best, open(filename, 'wb'))"
   ],
   "metadata": {
    "collapsed": false
   }
  }
 ],
 "metadata": {
  "kernelspec": {
   "display_name": "Python 3",
   "language": "python",
   "name": "python3"
  },
  "language_info": {
   "codemirror_mode": {
    "name": "ipython",
    "version": 2
   },
   "file_extension": ".py",
   "mimetype": "text/x-python",
   "name": "python",
   "nbconvert_exporter": "python",
   "pygments_lexer": "ipython2",
   "version": "2.7.6"
  }
 },
 "nbformat": 4,
 "nbformat_minor": 0
}
